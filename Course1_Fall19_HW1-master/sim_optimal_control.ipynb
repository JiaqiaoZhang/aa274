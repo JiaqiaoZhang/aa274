{
 "cells": [
  {
   "cell_type": "markdown",
   "metadata": {},
   "source": [
    "# Optimal Control Simulation"
   ]
  },
  {
   "cell_type": "code",
   "execution_count": null,
   "metadata": {},
   "outputs": [],
   "source": [
    "# The autoreload extension will automatically load in new code as you edit files, \n",
    "# so you don't need to restart the kernel every time\n",
    "%load_ext autoreload\n",
    "%autoreload 2\n",
    "import numpy as np\n",
    "from matplotlib import pyplot as plt\n",
    "from utils import simulate_car_dyn, maybe_makedirs\n",
    "from P4_optimal_control import main\n",
    "from P3_trajectory_tracking import TrajectoryTracker\n",
    "\n",
    "maybe_makedirs('plots')"
   ]
  },
  {
   "cell_type": "markdown",
   "metadata": {},
   "source": [
    "## Compute Trajectory\n",
    "Run the BVP solver and extract trajectory and times"
   ]
  },
  {
   "cell_type": "code",
   "execution_count": null,
   "metadata": {},
   "outputs": [],
   "source": [
    "z, V, om = main()\n",
    "\n",
    "x_0 = z[0,0]\n",
    "y_0 = z[0,1]\n",
    "th_0 = z[0,2]\n",
    "\n",
    "tf = z[0,-1]\n",
    "times = np.linspace(0, tf, z.shape[0])\n",
    "traj = z[:,:3]"
   ]
  },
  {
   "cell_type": "code",
   "execution_count": null,
   "metadata": {},
   "outputs": [],
   "source": [
    "noise_scale = np.sqrt(0.2)"
   ]
  },
  {
   "cell_type": "markdown",
   "metadata": {},
   "source": [
    "## Simulate Open Loop"
   ]
  },
  {
   "cell_type": "code",
   "execution_count": null,
   "metadata": {},
   "outputs": [],
   "source": [
    "actions_ol = np.stack([V, om], axis=-1)\n",
    "states_ol, ctrl_ol = simulate_car_dyn(x_0, y_0, th_0, times, actions=actions_ol, noise_scale=noise_scale)"
   ]
  },
  {
   "cell_type": "code",
   "execution_count": null,
   "metadata": {},
   "outputs": [],
   "source": [
    "plt.figure(figsize=[10,5])\n",
    "plt.subplot(2,2,1)\n",
    "plt.plot(times, states_ol)\n",
    "plt.plot(times, traj[:,0], linestyle=':', color='C0', alpha=0.7)\n",
    "plt.plot(times, traj[:,1], linestyle=':', color='C1', alpha=0.7)\n",
    "plt.plot(times, traj[:,2], linestyle=':', color='C2', alpha=0.7)\n",
    "plt.grid(True)\n",
    "plt.xlabel('t')\n",
    "plt.legend(labels=[\"x\",\"y\",\"th\",\"nominal\"])\n",
    "plt.subplot(2,2,3)\n",
    "plt.plot(times[:-1], ctrl_ol)\n",
    "plt.grid(True)\n",
    "plt.xlabel('t')\n",
    "plt.legend(labels=[\"V\",\"om\"])\n",
    "plt.subplot(1,2,2)\n",
    "plt.plot(states_ol[:,0], states_ol[:,1])\n",
    "plt.plot(traj[:,0], traj[:,1], color=\"k\", linestyle=\":\", alpha=0.7)\n",
    "plt.legend(labels=[\"Open Loop\", \"Nominal\"])\n",
    "plt.xlabel('x')\n",
    "plt.ylabel('y')\n",
    "plt.grid(True)\n",
    "plt.tight_layout()\n",
    "plt.savefig(\"plots/sim_traj_optimal_control.pdf\")\n",
    "plt.show()"
   ]
  },
  {
   "cell_type": "code",
   "execution_count": null,
   "metadata": {},
   "outputs": [],
   "source": []
  }
 ],
 "metadata": {
  "kernelspec": {
   "display_name": "Python 2",
   "language": "python",
   "name": "python2"
  },
  "language_info": {
   "codemirror_mode": {
    "name": "ipython",
    "version": 2
   },
   "file_extension": ".py",
   "mimetype": "text/x-python",
   "name": "python",
   "nbconvert_exporter": "python",
   "pygments_lexer": "ipython2",
   "version": "2.7.12"
  }
 },
 "nbformat": 4,
 "nbformat_minor": 2
}
